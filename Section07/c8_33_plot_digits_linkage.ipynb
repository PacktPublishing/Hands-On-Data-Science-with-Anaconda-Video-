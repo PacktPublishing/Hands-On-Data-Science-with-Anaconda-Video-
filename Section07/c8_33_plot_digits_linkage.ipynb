{
 "cells": [
  {
   "cell_type": "code",
   "execution_count": null,
   "metadata": {
    "collapsed": false
   },
   "outputs": [],
   "source": [
    "%matplotlib inline"
   ]
  },
  {
   "cell_type": "markdown",
   "metadata": {},
   "source": [
    "\n",
    "# Various Agglomerative Clustering on a 2D embedding of digits\n",
    "\n",
    "\n",
    "An illustration of various linkage option for agglomerative clustering on\n",
    "a 2D embedding of the digits dataset.\n",
    "\n",
    "The goal of this example is to show intuitively how the metrics behave, and\n",
    "not to find good clusters for the digits. This is why the example works on a\n",
    "2D embedding.\n",
    "\n",
    "What this example shows us is the behavior \"rich getting richer\" of\n",
    "agglomerative clustering that tends to create uneven cluster sizes.\n",
    "This behavior is especially pronounced for the average linkage strategy,\n",
    "that ends up with a couple of singleton clusters.\n",
    "\n"
   ]
  },
  {
   "cell_type": "code",
   "execution_count": null,
   "metadata": {
    "collapsed": false
   },
   "outputs": [],
   "source": [
    "# Authors: Gael Varoquaux\n",
    "# License: BSD 3 clause (C) INRIA 2014\n",
    "\n",
    "print(__doc__)\n",
    "from time import time\n",
    "\n",
    "import numpy as np\n",
    "from scipy import ndimage\n",
    "from matplotlib import pyplot as plt\n",
    "\n",
    "from sklearn import manifold, datasets\n",
    "\n",
    "digits = datasets.load_digits(n_class=10)\n",
    "X = digits.data\n",
    "y = digits.target\n",
    "n_samples, n_features = X.shape\n",
    "\n",
    "np.random.seed(0)\n",
    "\n",
    "def nudge_images(X, y):\n",
    "    # Having a larger dataset shows more clearly the behavior of the\n",
    "    # methods, but we multiply the size of the dataset only by 2, as the\n",
    "    # cost of the hierarchical clustering methods are strongly\n",
    "    # super-linear in n_samples\n",
    "    shift = lambda x: ndimage.shift(x.reshape((8, 8)),\n",
    "                                  .3 * np.random.normal(size=2),\n",
    "                                  mode='constant',\n",
    "                                  ).ravel()\n",
    "    X = np.concatenate([X, np.apply_along_axis(shift, 1, X)])\n",
    "    Y = np.concatenate([y, y], axis=0)\n",
    "    return X, Y\n",
    "\n",
    "\n",
    "X, y = nudge_images(X, y)\n",
    "\n",
    "\n",
    "#----------------------------------------------------------------------\n",
    "# Visualize the clustering\n",
    "def plot_clustering(X_red, X, labels, title=None):\n",
    "    x_min, x_max = np.min(X_red, axis=0), np.max(X_red, axis=0)\n",
    "    X_red = (X_red - x_min) / (x_max - x_min)\n",
    "\n",
    "    plt.figure(figsize=(6, 4))\n",
    "    for i in range(X_red.shape[0]):\n",
    "        plt.text(X_red[i, 0], X_red[i, 1], str(y[i]),\n",
    "                 color=plt.cm.spectral(labels[i] / 10.),\n",
    "                 fontdict={'weight': 'bold', 'size': 9})\n",
    "\n",
    "    plt.xticks([])\n",
    "    plt.yticks([])\n",
    "    if title is not None:\n",
    "        plt.title(title, size=17)\n",
    "    plt.axis('off')\n",
    "    plt.tight_layout()\n",
    "\n",
    "#----------------------------------------------------------------------\n",
    "# 2D embedding of the digits dataset\n",
    "print(\"Computing embedding\")\n",
    "X_red = manifold.SpectralEmbedding(n_components=2).fit_transform(X)\n",
    "print(\"Done.\")\n",
    "\n",
    "from sklearn.cluster import AgglomerativeClustering\n",
    "\n",
    "for linkage in ('ward', 'average', 'complete'):\n",
    "    clustering = AgglomerativeClustering(linkage=linkage, n_clusters=10)\n",
    "    t0 = time()\n",
    "    clustering.fit(X_red)\n",
    "    print(\"%s : %.2fs\" % (linkage, time() - t0))\n",
    "\n",
    "    plot_clustering(X_red, X, clustering.labels_, \"%s linkage\" % linkage)\n",
    "\n",
    "\n",
    "plt.show()"
   ]
  }
 ],
 "metadata": {
  "kernelspec": {
   "display_name": "Python 2",
   "language": "python",
   "name": "python2"
  },
  "language_info": {
   "codemirror_mode": {
    "name": "ipython",
    "version": 2
   },
   "file_extension": ".py",
   "mimetype": "text/x-python",
   "name": "python",
   "nbconvert_exporter": "python",
   "pygments_lexer": "ipython2",
   "version": "2.7.11"
  }
 },
 "nbformat": 4,
 "nbformat_minor": 0
}
